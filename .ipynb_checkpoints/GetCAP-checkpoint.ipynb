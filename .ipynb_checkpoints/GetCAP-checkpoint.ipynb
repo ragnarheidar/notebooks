{
 "cells": [
  {
   "cell_type": "code",
   "execution_count": 9,
   "metadata": {},
   "outputs": [],
   "source": [
    "import requests\n",
    "import json"
   ]
  },
  {
   "cell_type": "code",
   "execution_count": 10,
   "metadata": {},
   "outputs": [],
   "source": [
    "identifier = \"is-IMO-2d95caf6-bb6c-45c6-a730-bc98c1a98d36\"\n",
    "sender = \"IMO-Icelandic_Met_Office\"\n",
    "sent = \"2022-02-18T09:46:37-00:00\"\n",
    "cap_url = \"https://api.vedur.is/cap/v1/capbroker/\"\n",
    "\n",
    "request_url = \"https://api.vedur.is/cap/v1/capbroker/sender/IMO-Icelandic_Met_Office/identifier/is-IMO-2d95caf6-bb6c-45c6-a730-bc98c1a98d36/sent/2022-02-18T09%3A46%3A37-00%3A00/json/\"\n",
    "\n",
    "r = requests.get(request_url)"
   ]
  },
  {
   "cell_type": "code",
   "execution_count": 11,
   "metadata": {},
   "outputs": [],
   "source": [
    "r.encoding = 'ISO-8859-1'\n",
    "response = r.json()"
   ]
  },
  {
   "cell_type": "code",
   "execution_count": 12,
   "metadata": {},
   "outputs": [
    {
     "data": {
      "text/plain": [
       "{'alert': {'@xmlns': 'urn:oasis:names:tc:emergency:cap:1.2',\n",
       "  'identifier': 'is-IMO-2d95caf6-bb6c-45c6-a730-bc98c1a98d36',\n",
       "  'sender': 'IMO-Icelandic_Met_Office',\n",
       "  'sent': '2022-02-18T09:46:37-00:00',\n",
       "  'status': 'Actual',\n",
       "  'msgType': 'Alert',\n",
       "  'scope': 'Public',\n",
       "  'info': [{'language': 'is-IS',\n",
       "    'category': 'Met',\n",
       "    'event': 'Veðurviðvörun: Vindur',\n",
       "    'responseType': 'None',\n",
       "    'urgency': 'Unknown',\n",
       "    'severity': 'Moderate',\n",
       "    'certainty': 'Likely',\n",
       "    'eventCode': {'valueName': 'alertType', 'value': 'Wind'},\n",
       "    'onset': '2022-02-19T13:00:00-00:00',\n",
       "    'expires': '2022-02-19T20:00:00-00:00',\n",
       "    'senderName': 'IMO - Meteorologist on duty',\n",
       "    'headline': 'Austan hvassviðri eða stormur',\n",
       "    'description': 'Austan 13-18 m/s og skafrenningur, en 18-25 og snjókoma syðst. Búast má við lélegu skyggni og erfiðum akstursskilyrðum',\n",
       "    'web': 'http://www.vedur.is/#spasvaedi=su',\n",
       "    'contact': 'None',\n",
       "    'parameter': {'valueName': 'Color', 'value': 'Yellow'},\n",
       "    'resource': {'resourceDesc': 'Icon: Vindur',\n",
       "     'mimeType': 'image/png',\n",
       "     'size': '17296',\n",
       "     'uri': 'https://cdn.vedur.is/cap/v1/icons/yellow_wind.png',\n",
       "     'digest': '1c8015126336af265ec36ef202e91611f9cfd7a7'},\n",
       "    'area': {'areaDesc': 'Suðurland',\n",
       "     'polygon': '63.8,-22.8 64.39,-20.61 64.37,-20.18 64.21,-19.72 64,-19.74 63.88,-19.56 63.55,-19.43 63.53,-19.1 63.38,-19.1 63.37,-20.34 63.75,-20.96 63.8,-22.8',\n",
       "     'geocode': {'valueName': 'Spásvæði', 'value': 'Suðurland'}}},\n",
       "   {'language': 'en-US',\n",
       "    'category': 'Met',\n",
       "    'event': 'Weather Warning: Wind',\n",
       "    'responseType': 'None',\n",
       "    'urgency': 'Unknown',\n",
       "    'severity': 'Moderate',\n",
       "    'certainty': 'Likely',\n",
       "    'eventCode': {'valueName': 'alertType', 'value': 'Wind'},\n",
       "    'onset': '2022-02-19T13:00:00-00:00',\n",
       "    'expires': '2022-02-19T20:00:00-00:00',\n",
       "    'senderName': 'IMO - Meteorologist on duty',\n",
       "    'headline': 'East gale or severe gale',\n",
       "    'description': 'East 13-18 m/s and blowing snow, but 18-25 m/s and snow in the southernmost part. Poor visibility and difficult driving conditions.',\n",
       "    'web': 'http://en.vedur.is/#forec_area=su',\n",
       "    'contact': 'None',\n",
       "    'parameter': {'valueName': 'Color', 'value': 'Yellow'},\n",
       "    'resource': {'resourceDesc': 'Icon: Wind',\n",
       "     'mimeType': 'image/png',\n",
       "     'size': '17296',\n",
       "     'uri': 'https://cdn.vedur.is/cap/v1/icons/yellow_wind.png',\n",
       "     'digest': '1c8015126336af265ec36ef202e91611f9cfd7a7'},\n",
       "    'area': {'areaDesc': 'South Iceland',\n",
       "     'polygon': '63.8,-22.8 64.39,-20.61 64.37,-20.18 64.21,-19.72 64,-19.74 63.88,-19.56 63.55,-19.43 63.53,-19.1 63.38,-19.1 63.37,-20.34 63.75,-20.96 63.8,-22.8',\n",
       "     'geocode': {'valueName': 'Forecast Region', 'value': 'South Iceland'}}}]}}"
      ]
     },
     "execution_count": 12,
     "metadata": {},
     "output_type": "execute_result"
    }
   ],
   "source": [
    "r.json()"
   ]
  },
  {
   "cell_type": "code",
   "execution_count": 14,
   "metadata": {},
   "outputs": [
    {
     "name": "stdout",
     "output_type": "stream",
     "text": [
      "https://api.vedur.is/cap/v1/capbroker/lat/64.1/long/-21.9/srid/4326/distance/10/\n",
      "<Response [204]>\n",
      "<Response [204]>\n"
     ]
    }
   ],
   "source": [
    "# get active CAP for a location, distance is in km and \n",
    "api_url = \"https://api.vedur.is/cap/v1/capbroker/lat/\"\n",
    "lat = 64.1\n",
    "lon = -21.9\n",
    "epsg = 4326\n",
    "dist = 10\n",
    "\n",
    "request_url = api_url + str(lat) + \"/long/\" + str(lon) + \"/srid/\" + str(epsg) + \"/distance/\" + str(dist) + \"/\"\n",
    "print(request_url)\n",
    "r = requests.get(request_url)\n",
    "print(r)\n",
    "r.encoding = 'ISO-8859-1'\n",
    "print(str(r))\n",
    "\n",
    "\n",
    "# response = r.json()\n",
    "# r.json()"
   ]
  },
  {
   "cell_type": "code",
   "execution_count": null,
   "metadata": {},
   "outputs": [],
   "source": []
  }
 ],
 "metadata": {
  "kernelspec": {
   "display_name": "Python 3",
   "language": "python",
   "name": "python3"
  },
  "language_info": {
   "codemirror_mode": {
    "name": "ipython",
    "version": 3
   },
   "file_extension": ".py",
   "mimetype": "text/x-python",
   "name": "python",
   "nbconvert_exporter": "python",
   "pygments_lexer": "ipython3",
   "version": "3.7.4"
  }
 },
 "nbformat": 4,
 "nbformat_minor": 5
}
