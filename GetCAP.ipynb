{
 "cells": [
  {
   "cell_type": "code",
   "execution_count": 1,
   "id": "76bceb6c",
   "metadata": {},
   "outputs": [],
   "source": [
    "import requests\n",
    "import json\n",
    "import pandas"
   ]
  },
  {
   "cell_type": "code",
   "execution_count": 2,
   "id": "a52fe1e3",
   "metadata": {},
   "outputs": [],
   "source": [
    "identifier = \"is-IMO-2d95caf6-bb6c-45c6-a730-bc98c1a98d36\"\n",
    "sender = \"IMO-Icelandic_Met_Office\"\n",
    "sent = \"2022-02-18T09:46:37-00:00\"\n",
    "cap_url = \"https://api.vedur.is/cap/v1/capbroker/\"\n",
    "\n",
    "request_url = \"https://api.vedur.is/cap/v1/capbroker/sender/IMO-Icelandic_Met_Office/identifier/is-IMO-2d95caf6-bb6c-45c6-a730-bc98c1a98d36/sent/2022-02-18T09%3A46%3A37-00%3A00/json/\"\n",
    "\n",
    "r = requests.get(request_url)"
   ]
  },
  {
   "cell_type": "code",
   "execution_count": 3,
   "id": "6af14089",
   "metadata": {},
   "outputs": [],
   "source": [
    "r.encoding = 'utf-8'\n",
    "response = r.json()"
   ]
  },
  {
   "cell_type": "code",
   "execution_count": 4,
   "id": "a9804b83",
   "metadata": {},
   "outputs": [
    {
     "data": {
      "text/plain": [
       "{'alert': {'@xmlns': 'urn:oasis:names:tc:emergency:cap:1.2',\n",
       "  'identifier': 'is-IMO-2d95caf6-bb6c-45c6-a730-bc98c1a98d36',\n",
       "  'sender': 'IMO-Icelandic_Met_Office',\n",
       "  'sent': '2022-02-18T09:46:37-00:00',\n",
       "  'status': 'Actual',\n",
       "  'msgType': 'Alert',\n",
       "  'scope': 'Public',\n",
       "  'info': [{'language': 'is-IS',\n",
       "    'category': 'Met',\n",
       "    'event': 'Veðurviðvörun: Vindur',\n",
       "    'responseType': 'None',\n",
       "    'urgency': 'Unknown',\n",
       "    'severity': 'Moderate',\n",
       "    'certainty': 'Likely',\n",
       "    'eventCode': {'valueName': 'alertType', 'value': 'Wind'},\n",
       "    'onset': '2022-02-19T13:00:00-00:00',\n",
       "    'expires': '2022-02-19T20:00:00-00:00',\n",
       "    'senderName': 'IMO - Meteorologist on duty',\n",
       "    'headline': 'Austan hvassviðri eða stormur',\n",
       "    'description': 'Austan 13-18 m/s og skafrenningur, en 18-25 og snjókoma syðst. Búast má við lélegu skyggni og erfiðum akstursskilyrðum',\n",
       "    'web': 'http://www.vedur.is/#spasvaedi=su',\n",
       "    'contact': 'None',\n",
       "    'parameter': {'valueName': 'Color', 'value': 'Yellow'},\n",
       "    'resource': {'resourceDesc': 'Icon: Vindur',\n",
       "     'mimeType': 'image/png',\n",
       "     'size': '17296',\n",
       "     'uri': 'https://cdn.vedur.is/cap/v1/icons/yellow_wind.png',\n",
       "     'digest': '1c8015126336af265ec36ef202e91611f9cfd7a7'},\n",
       "    'area': {'areaDesc': 'Suðurland',\n",
       "     'polygon': '63.8,-22.8 64.39,-20.61 64.37,-20.18 64.21,-19.72 64,-19.74 63.88,-19.56 63.55,-19.43 63.53,-19.1 63.38,-19.1 63.37,-20.34 63.75,-20.96 63.8,-22.8',\n",
       "     'geocode': {'valueName': 'Spásvæði', 'value': 'Suðurland'}}},\n",
       "   {'language': 'en-US',\n",
       "    'category': 'Met',\n",
       "    'event': 'Weather Warning: Wind',\n",
       "    'responseType': 'None',\n",
       "    'urgency': 'Unknown',\n",
       "    'severity': 'Moderate',\n",
       "    'certainty': 'Likely',\n",
       "    'eventCode': {'valueName': 'alertType', 'value': 'Wind'},\n",
       "    'onset': '2022-02-19T13:00:00-00:00',\n",
       "    'expires': '2022-02-19T20:00:00-00:00',\n",
       "    'senderName': 'IMO - Meteorologist on duty',\n",
       "    'headline': 'East gale or severe gale',\n",
       "    'description': 'East 13-18 m/s and blowing snow, but 18-25 m/s and snow in the southernmost part. Poor visibility and difficult driving conditions.',\n",
       "    'web': 'http://en.vedur.is/#forec_area=su',\n",
       "    'contact': 'None',\n",
       "    'parameter': {'valueName': 'Color', 'value': 'Yellow'},\n",
       "    'resource': {'resourceDesc': 'Icon: Wind',\n",
       "     'mimeType': 'image/png',\n",
       "     'size': '17296',\n",
       "     'uri': 'https://cdn.vedur.is/cap/v1/icons/yellow_wind.png',\n",
       "     'digest': '1c8015126336af265ec36ef202e91611f9cfd7a7'},\n",
       "    'area': {'areaDesc': 'South Iceland',\n",
       "     'polygon': '63.8,-22.8 64.39,-20.61 64.37,-20.18 64.21,-19.72 64,-19.74 63.88,-19.56 63.55,-19.43 63.53,-19.1 63.38,-19.1 63.37,-20.34 63.75,-20.96 63.8,-22.8',\n",
       "     'geocode': {'valueName': 'Forecast Region', 'value': 'South Iceland'}}}]}}"
      ]
     },
     "execution_count": 4,
     "metadata": {},
     "output_type": "execute_result"
    }
   ],
   "source": [
    "r.json()"
   ]
  },
  {
   "cell_type": "code",
   "execution_count": 5,
   "id": "d896a0c0",
   "metadata": {},
   "outputs": [],
   "source": [
    "# save JSON response as file\n",
    "data = r.json()['alert'] # add alert to get nested list\n",
    "with open('CAP_data.json', 'w') as f:\n",
    "    json.dump(data, f, ensure_ascii=False)\n",
    "f.close()"
   ]
  },
  {
   "cell_type": "code",
   "execution_count": 7,
   "id": "bacdb06b",
   "metadata": {},
   "outputs": [],
   "source": [
    "with open('CAP_data.json', 'r') as f:\n",
    "    data = json.load(f)\n",
    "dataframe = pandas.json_normalize(data)\n",
    "dataframe.to_csv('CAP_data.csv', index=False)"
   ]
  },
  {
   "cell_type": "code",
   "execution_count": 8,
   "id": "7e75bc71",
   "metadata": {},
   "outputs": [
    {
     "data": {
      "text/html": [
       "<div>\n",
       "<style scoped>\n",
       "    .dataframe tbody tr th:only-of-type {\n",
       "        vertical-align: middle;\n",
       "    }\n",
       "\n",
       "    .dataframe tbody tr th {\n",
       "        vertical-align: top;\n",
       "    }\n",
       "\n",
       "    .dataframe thead th {\n",
       "        text-align: right;\n",
       "    }\n",
       "</style>\n",
       "<table border=\"1\" class=\"dataframe\">\n",
       "  <thead>\n",
       "    <tr style=\"text-align: right;\">\n",
       "      <th></th>\n",
       "      <th>@xmlns</th>\n",
       "      <th>identifier</th>\n",
       "      <th>sender</th>\n",
       "      <th>sent</th>\n",
       "      <th>status</th>\n",
       "      <th>msgType</th>\n",
       "      <th>scope</th>\n",
       "      <th>info</th>\n",
       "    </tr>\n",
       "  </thead>\n",
       "  <tbody>\n",
       "    <tr>\n",
       "      <th>0</th>\n",
       "      <td>urn:oasis:names:tc:emergency:cap:1.2</td>\n",
       "      <td>is-IMO-2d95caf6-bb6c-45c6-a730-bc98c1a98d36</td>\n",
       "      <td>IMO-Icelandic_Met_Office</td>\n",
       "      <td>2022-02-18T09:46:37-00:00</td>\n",
       "      <td>Actual</td>\n",
       "      <td>Alert</td>\n",
       "      <td>Public</td>\n",
       "      <td>[{'language': 'is-IS', 'category': 'Met', 'eve...</td>\n",
       "    </tr>\n",
       "  </tbody>\n",
       "</table>\n",
       "</div>"
      ],
      "text/plain": [
       "                                 @xmlns  \\\n",
       "0  urn:oasis:names:tc:emergency:cap:1.2   \n",
       "\n",
       "                                    identifier                    sender  \\\n",
       "0  is-IMO-2d95caf6-bb6c-45c6-a730-bc98c1a98d36  IMO-Icelandic_Met_Office   \n",
       "\n",
       "                        sent  status msgType   scope  \\\n",
       "0  2022-02-18T09:46:37-00:00  Actual   Alert  Public   \n",
       "\n",
       "                                                info  \n",
       "0  [{'language': 'is-IS', 'category': 'Met', 'eve...  "
      ]
     },
     "metadata": {},
     "output_type": "display_data"
    }
   ],
   "source": [
    "display(dataframe)"
   ]
  },
  {
   "cell_type": "code",
   "execution_count": 9,
   "id": "757b3ad3",
   "metadata": {},
   "outputs": [
    {
     "name": "stdout",
     "output_type": "stream",
     "text": [
      "https://api.vedur.is/cap/v1/capbroker/lat/64.1/long/-21.9/srid/4326/distance/10/\n",
      "<Response [204]>\n",
      "<Response [204]>\n"
     ]
    }
   ],
   "source": [
    "# get active CAP for a location, distance is in km and \n",
    "api_url = \"https://api.vedur.is/cap/v1/capbroker/lat/\"\n",
    "lat = 64.1\n",
    "lon = -21.9\n",
    "epsg = 4326\n",
    "dist = 10\n",
    "\n",
    "request_url = api_url + str(lat) + \"/long/\" + str(lon) + \"/srid/\" + str(epsg) + \"/distance/\" + str(dist) + \"/\"\n",
    "print(request_url)\n",
    "r = requests.get(request_url)\n",
    "print(r)\n",
    "r.encoding = 'ISO-8859-1'\n",
    "print(str(r))\n",
    "\n",
    "\n",
    "# response = r.json()\n",
    "# r.json()"
   ]
  }
 ],
 "metadata": {
  "kernelspec": {
   "display_name": "geopandas",
   "language": "python",
   "name": "python3"
  },
  "language_info": {
   "codemirror_mode": {
    "name": "ipython",
    "version": 3
   },
   "file_extension": ".py",
   "mimetype": "text/x-python",
   "name": "python",
   "nbconvert_exporter": "python",
   "pygments_lexer": "ipython3",
   "version": "3.9.13"
  },
  "vscode": {
   "interpreter": {
    "hash": "393893efe096ee2fc5764a4956f32082cb1dba0a8e0e3b28c3e69b0223e5d8b7"
   }
  }
 },
 "nbformat": 4,
 "nbformat_minor": 5
}
