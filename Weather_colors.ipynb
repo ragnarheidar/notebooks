{
 "cells": [
  {
   "cell_type": "code",
   "execution_count": 2,
   "id": "866ca125",
   "metadata": {},
   "outputs": [],
   "source": [
    "import matplotlib.pyplot as plt\n",
    "import matplotlib as mpl"
   ]
  },
  {
   "cell_type": "code",
   "execution_count": 3,
   "id": "81425a64",
   "metadata": {},
   "outputs": [
    {
     "data": {
      "text/plain": [
       "<matplotlib.colorbar.Colorbar at 0x17aeb290490>"
      ]
     },
     "execution_count": 3,
     "metadata": {},
     "output_type": "execute_result"
    },
    {
     "data": {
      "image/png": "[encoded data removed]",
      "text/plain": [
       "<Figure size 864x86.4 with 1 Axes>"
      ]
     },
     "metadata": {
      "needs_background": "light"
     },
     "output_type": "display_data"
    }
   ],
   "source": [
    "fig, ax = plt.subplots(figsize=(12, 1.2))\n",
    "fig.subplots_adjust(bottom=0.5)\n",
    "plt.rc('axes', labelsize=14)\n",
    "\n",
    "wind_hex_list = ['#f4fee0','#d6f29d','#b9db75','#9bc44c','#b1fefe',\n",
    "                 '#82d9d9','#53b4b4','#249090','#c3b2fe','#9882e1',\n",
    "                 '#6e54c4','#4326a7','#fea2a2','#e07474','#c24545',\n",
    "                 '#a41717','#f0c02d','#bc9120','#876214','#533307',\n",
    "                 '#f74eff','#c438cc','#902199','#5d0b60','#ffc1d6',\n",
    "                 '#e6a6b7','#c78c9e','#a97383','#8d5a69','#713f4b']\n",
    "\n",
    "wind_cmap = (mpl.colors.ListedColormap(wind_hex_list).with_extremes(over='#552531'))\n",
    "\n",
    "wind_bounds = [0, 2, 4, 6, 8, 10, 12, 14, 16, 18, 20, 22, 24, 26, 28, 30,\n",
    "               32, 34, 36, 38, 40, 42, 44, 46, 48, 50, 52, 54, 56, 58, 60]\n",
    "\n",
    "norm = mpl.colors.BoundaryNorm(wind_bounds, wind_cmap.N)\n",
    "fig.colorbar(\n",
    "    mpl.cm.ScalarMappable(cmap=wind_cmap, norm=norm),\n",
    "    cax=ax,\n",
    "    boundaries=[0] + wind_bounds + [13],  # Adding values for extensions.\n",
    "    ticks=wind_bounds,\n",
    "    extend='max',\n",
    "    spacing='proportional',\n",
    "    orientation='horizontal',\n",
    "    label='Wind m/s',\n",
    ")"
   ]
  },
  {
   "cell_type": "code",
   "execution_count": 4,
   "id": "b4a3cfe9",
   "metadata": {},
   "outputs": [
    {
     "data": {
      "text/plain": [
       "<matplotlib.colorbar.Colorbar at 0x17aeb3dc160>"
      ]
     },
     "execution_count": 4,
     "metadata": {},
     "output_type": "execute_result"
    },
    {
     "data": {
      "image/png": "[encoded data removed]",
      "text/plain": [
       "<Figure size 864x86.4 with 1 Axes>"
      ]
     },
     "metadata": {
      "needs_background": "light"
     },
     "output_type": "display_data"
    }
   ],
   "source": [
    "fig, ax = plt.subplots(figsize=(12, 1.2))\n",
    "fig.subplots_adjust(bottom=0.5)\n",
    "plt.rc('axes', labelsize=14)\n",
    "\n",
    "precipitation_hex_list = ['#fefc83','#cad300','#aafb78','#00aa08','#025d3e',\n",
    "                          '#06fced','#3366ff','#00017c','#770161','#ff1493']\n",
    "\n",
    "precip_cmap = (mpl.colors.ListedColormap(precipitation_hex_list).with_extremes(over='#ff0000'))\n",
    "\n",
    "precip_bounds = [0.1, 0.3, 0.5, 1, 3, 5, 10, 15, 20, 30, 50]\n",
    "\n",
    "norm = mpl.colors.BoundaryNorm(precip_bounds, precip_cmap.N)\n",
    "fig.colorbar(\n",
    "    mpl.cm.ScalarMappable(cmap=precip_cmap, norm=norm),\n",
    "    cax=ax,\n",
    "    boundaries=[0] + precip_bounds + [13],  # Adding values for extensions.\n",
    "    ticks=precip_bounds,\n",
    "    extend='max',\n",
    "    #spacing='proportional',\n",
    "    orientation='horizontal',\n",
    "    label='Precipitation mm/hr'\n",
    ")"
   ]
  },
  {
   "cell_type": "code",
   "execution_count": 5,
   "id": "e1f05cbd",
   "metadata": {},
   "outputs": [
    {
     "data": {
      "text/plain": [
       "<matplotlib.colorbar.Colorbar at 0x17aeb438d90>"
      ]
     },
     "execution_count": 5,
     "metadata": {},
     "output_type": "execute_result"
    },
    {
     "data": {
      "image/png": "[encoded data removed]",
      "text/plain": [
       "<Figure size 864x86.4 with 1 Axes>"
      ]
     },
     "metadata": {
      "needs_background": "light"
     },
     "output_type": "display_data"
    }
   ],
   "source": [
    "fig, ax = plt.subplots(figsize=(12, 1.2))\n",
    "fig.subplots_adjust(bottom=0.5)\n",
    "plt.rc('axes', labelsize=14)\n",
    "\n",
    "precip_accum_hex_list = ['#b7fbfc','#01fffd','#00cdff','#3466fd','#2935c7',\n",
    "                         '#770161','#a6018b','#ff01d1']\n",
    "\n",
    "precip_accum_cmap = (mpl.colors.ListedColormap(precip_accum_hex_list).with_extremes(over='#f8b4ff'))\n",
    "\n",
    "precip_accum_bounds = [1, 10, 25, 50, 75, 100, 150, 200, 400]\n",
    "\n",
    "norm = mpl.colors.BoundaryNorm(precip_accum_bounds, precip_accum_cmap.N)\n",
    "fig.colorbar(\n",
    "    mpl.cm.ScalarMappable(cmap=precip_accum_cmap, norm=norm),\n",
    "    cax=ax,\n",
    "    boundaries=[0] + precip_accum_bounds + [13],  # Adding values for extensions.\n",
    "    ticks=precip_accum_bounds,\n",
    "    extend='max',\n",
    "    #spacing='proportional',\n",
    "    orientation='horizontal',\n",
    "    label='Precipitation mm/hr'\n",
    ")"
   ]
  },
  {
   "cell_type": "code",
   "execution_count": 6,
   "id": "9247d32c",
   "metadata": {},
   "outputs": [
    {
     "data": {
      "text/plain": [
       "<matplotlib.colorbar.Colorbar at 0x17aeb4a7850>"
      ]
     },
     "execution_count": 6,
     "metadata": {},
     "output_type": "execute_result"
    },
    {
     "data": {
      "image/png": "[encoded data removed]",
      "text/plain": [
       "<Figure size 936x86.4 with 1 Axes>"
      ]
     },
     "metadata": {
      "needs_background": "light"
     },
     "output_type": "display_data"
    }
   ],
   "source": [
    "fig, ax = plt.subplots(figsize=(13, 1.2))\n",
    "fig.subplots_adjust(bottom=0.5)\n",
    "plt.rc('axes', labelsize=14)\n",
    "\n",
    "# '#000000','#ff0000','#000000','#ff0000','#000000',\n",
    "\n",
    "temp2_hex_list = ['#2cb32c','#52cc52','#7ee47e','#b2ffb1','#b3e1b2',\n",
    "                  '#310f99','#4e2cb3','#6f52cc','#977de4','#c5b1ff',\n",
    "                  '#0f5399','#2c6fb3','#528fcc','#7db1e4','#b1d9ff',\n",
    "                  '#ffffb1','#f1e385','#e4c15c','#d99736','#cc6a13',\n",
    "                  '#de7b58','#cc503c','#b92424','#a81124','#950028',\n",
    "                  '#b852cc','#a133b8','#8b1aa2','#79098f']\n",
    "\n",
    "temp2_cmap = (mpl.colors.ListedColormap(temp2_hex_list))\n",
    "\n",
    "temp2_bounds = [-30, -28, -26, -24, -22, -20, -18, -16, -14, -12, -10, -8, -6, -4, -2,\n",
    "               0, 2, 4, 6, 8, 10, 12, 14, 16, 18, 20, 22, 24, 26, 28]\n",
    "\n",
    "norm = mpl.colors.BoundaryNorm(temp2_bounds, temp2_cmap.N)\n",
    "fig.colorbar(\n",
    "    mpl.cm.ScalarMappable(cmap=temp2_cmap, norm=norm),\n",
    "    cax=ax,\n",
    "    boundaries=[0] + temp2_bounds + [13],  # Adding values for extensions.\n",
    "    ticks=temp2_bounds,\n",
    "    extend='both',\n",
    "    spacing='proportional',\n",
    "    orientation='horizontal',\n",
    "    label='Temperature °C'\n",
    ")"
   ]
  },
  {
   "cell_type": "code",
   "execution_count": 7,
   "id": "87d250c3",
   "metadata": {},
   "outputs": [
    {
     "data": {
      "text/plain": [
       "<matplotlib.colorbar.Colorbar at 0x17aeb54aa30>"
      ]
     },
     "execution_count": 7,
     "metadata": {},
     "output_type": "execute_result"
    },
    {
     "data": {
      "image/png": "[encoded data removed]",
      "text/plain": [
       "<Figure size 1080x86.4 with 1 Axes>"
      ]
     },
     "metadata": {
      "needs_background": "light"
     },
     "output_type": "display_data"
    }
   ],
   "source": [
    "fig, ax = plt.subplots(figsize=(15, 1.2))\n",
    "fig.subplots_adjust(bottom=0.5)\n",
    "plt.rc('axes', labelsize=14)\n",
    "\n",
    "temp1_hex_list = ['#300f9c','#401ea9','#4e2dbd','#5e40c4','#7062ca',\n",
    "                  '#8567d7','#997ee9','#af98f3','#c7b2ff','#6b83cb',\n",
    "                  '#0e539e','#1e62a3','#2c70b7','#3f80c4','#528fce',\n",
    "                  '#65a2d9','#81b1e2','#94c7f4','#b3d9fe','#d7ecd9',\n",
    "                  '#ffffaf','#f5f3a0','#f3e381','#ead375','#e3c15d',\n",
    "                  '#deae4a','#db9734','#d48125','#cd6911','#d57237',\n",
    "                  '#dd7c5b','#d4664d','#cb503e','#c43a2f','#b82627',\n",
    "                  '#b11b24','#a81025','#9f0827','#960028','#a7297b',]\n",
    "\n",
    "temp1_cmap = (mpl.colors.ListedColormap(temp1_hex_list))\n",
    "\n",
    "temp1_bounds = [-20, -19, -18, -17, -16, -15, -14, -13, -12, -11, -10, -9, -8, -7, -6, -5, -4, -3, -2, -1,\n",
    "                0, 1, 2, 3, 4, 5, 6, 7, 8, 9, 10, 11, 12, 13, 14, 15, 16, 17, 18, 19, 20]\n",
    "\n",
    "norm = mpl.colors.BoundaryNorm(temp1_bounds, temp1_cmap.N)\n",
    "fig.colorbar(\n",
    "    mpl.cm.ScalarMappable(cmap=temp1_cmap, norm=norm),\n",
    "    cax=ax,\n",
    "    boundaries=[0] + temp1_bounds + [13],  # Adding values for extensions.\n",
    "    ticks=temp1_bounds,\n",
    "    extend='both',\n",
    "    spacing='proportional',\n",
    "    orientation='horizontal',\n",
    "    label='Temperature °C'\n",
    ")\n"
   ]
  },
  {
   "cell_type": "code",
   "execution_count": null,
   "id": "9633c558",
   "metadata": {},
   "outputs": [],
   "source": []
  }
 ],
 "metadata": {
  "kernelspec": {
   "display_name": "Python 3.7.3 64-bit",
   "language": "python",
   "name": "python3"
  },
  "language_info": {
   "codemirror_mode": {
    "name": "ipython",
    "version": 3
   },
   "file_extension": ".py",
   "mimetype": "text/x-python",
   "name": "python",
   "nbconvert_exporter": "python",
   "pygments_lexer": "ipython3",
   "version": "3.7.3"
  },
  "vscode": {
   "interpreter": {
    "hash": "31f2aee4e71d21fbe5cf8b01ff0e069b9275f58929596ceb00d14d90e3e16cd6"
   }
  }
 },
 "nbformat": 4,
 "nbformat_minor": 5
}
