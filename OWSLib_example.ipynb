{
 "cells": [
  {
   "cell_type": "code",
   "execution_count": 1,
   "id": "7f51e3ab",
   "metadata": {},
   "outputs": [],
   "source": [
    "from owslib.wms import WebMapService\n",
    "from owslib.wfs import WebFeatureService\n",
    "from owslib.fes import *\n",
    "from owslib.etree import etree\n",
    "import json # library to parse JSON response"
   ]
  },
  {
   "cell_type": "code",
   "execution_count": 2,
   "id": "7208f25d",
   "metadata": {},
   "outputs": [
    {
     "name": "stdout",
     "output_type": "stream",
     "text": [
      "WMS service name: Icelandic Met Office Web Map Service\n",
      "WMS version: 1.1.1\n"
     ]
    }
   ],
   "source": [
    "# Let's start with WMS and check out some content\n",
    "wms = WebMapService(\"https://geo.vedur.is/geoserver/wms\")\n",
    "print(\"WMS service name: \" + wms.identification.title)\n",
    "print(\"WMS version: \" + wms.identification.version)"
   ]
  },
  {
   "cell_type": "code",
   "execution_count": 3,
   "id": "9abfd786",
   "metadata": {
    "scrolled": true
   },
   "outputs": [
    {
     "data": {
      "text/plain": [
       "['glaciology:glacier_outline_group',\n",
       " 'meteorology:IcelandicMetOffice_CAP_areas',\n",
       " 'glaciology:glaciercauldronv',\n",
       " 'glaciology:glacieroutline_ams',\n",
       " 'glaciology:glacieroutline_ca_2000',\n",
       " 'glaciology:glacieroutline_ipy',\n",
       " 'glaciology:glacieroutline_lia',\n",
       " 'glaciology:glacieroutline_lm_2014',\n",
       " 'glaciology:glacieroutline_misc_1970s',\n",
       " 'glaciology:glacieroutline_sent2_2017',\n",
       " 'glaciology:glacieroutline_sent2_2019',\n",
       " 'glaciology:glacierphotolocv',\n",
       " 'glaciology:glacierpolygon_ams',\n",
       " 'glaciology:glacierpolygon_ca_2000',\n",
       " 'glaciology:glacierpolygon_ipy',\n",
       " 'glaciology:glacierpolygon_lia',\n",
       " 'glaciology:glacierpolygon_lm_2014',\n",
       " 'glaciology:glacierpolygon_misc_1970s',\n",
       " 'glaciology:glacierpolygon_sent2_2017',\n",
       " 'glaciology:glacierpolygon_sent2_2019',\n",
       " 'glaciology:glacierv',\n",
       " 'glaciology:stakembvv',\n",
       " 'glaciology:stakev',\n",
       " 'tos:v_stations_wgs84']"
      ]
     },
     "execution_count": 3,
     "metadata": {},
     "output_type": "execute_result"
    }
   ],
   "source": [
    "# list all available WMS layers\n",
    "list(wms.contents)"
   ]
  },
  {
   "cell_type": "code",
   "execution_count": 4,
   "id": "d2523f9a",
   "metadata": {},
   "outputs": [
    {
     "data": {
      "text/plain": [
       "'Glacier outlines - Little Ice Age, ~1890'"
      ]
     },
     "execution_count": 4,
     "metadata": {},
     "output_type": "execute_result"
    }
   ],
   "source": [
    "# get the title for a particular layer\n",
    "wms['glaciology:glacieroutline_lia'].title"
   ]
  },
  {
   "cell_type": "code",
   "execution_count": 5,
   "id": "e21c780a",
   "metadata": {},
   "outputs": [
    {
     "data": {
      "text/plain": [
       "['EPSG:3857', 'EPSG:4326', 'EPSG:900913', 'EPSG:3057']"
      ]
     },
     "execution_count": 5,
     "metadata": {},
     "output_type": "execute_result"
    }
   ],
   "source": [
    "# get all available spatial reference systems for a single layer\n",
    "wms['glaciology:glacieroutline_lia'].crsOptions"
   ]
  },
  {
   "cell_type": "code",
   "execution_count": 6,
   "id": "fe0632fa",
   "metadata": {},
   "outputs": [
    {
     "data": {
      "text/plain": [
       "['glaciology:glaciercauldronv',\n",
       " 'glaciology:glacierv',\n",
       " 'glaciology:stakembvv',\n",
       " 'glaciology:stakev',\n",
       " 'glaciology:glacieroutline_ams',\n",
       " 'glaciology:glacieroutline_misc_1970s',\n",
       " 'glaciology:glacieroutline_ipy',\n",
       " 'glaciology:glacieroutline_lia',\n",
       " 'glaciology:glacieroutline_lm_2014',\n",
       " 'glaciology:glacieroutline_ca_2000',\n",
       " 'glaciology:glacieroutline_sent2_2017',\n",
       " 'glaciology:glacieroutline_sent2_2019',\n",
       " 'glaciology:glacierphotolocv',\n",
       " 'glaciology:glacierpolygon_ams',\n",
       " 'glaciology:glacierpolygon_misc_1970s',\n",
       " 'glaciology:glacierpolygon_ipy',\n",
       " 'glaciology:glacierpolygon_lia',\n",
       " 'glaciology:glacierpolygon_lm_2014',\n",
       " 'glaciology:glacierpolygon_ca_2000',\n",
       " 'glaciology:glacierpolygon_sent2_2017',\n",
       " 'glaciology:glacierpolygon_sent2_2019',\n",
       " 'glaciology:terminusobslocvv',\n",
       " 'meteorology:IcelandicMetOffice_CAP_areas',\n",
       " 'tos:v_stations_wgs84']"
      ]
     },
     "execution_count": 6,
     "metadata": {},
     "output_type": "execute_result"
    }
   ],
   "source": [
    "# Let's switch to the WFS service\n",
    "# WFS lets you read the data directly \n",
    "wfs = WebFeatureService(\"https://geo.vedur.is/geoserver/wfs\", version=\"1.1.0\")\n",
    "# list avaialble layers\n",
    "list(wfs.contents)"
   ]
  },
  {
   "cell_type": "code",
   "execution_count": 7,
   "id": "dfb66394",
   "metadata": {},
   "outputs": [
    {
     "data": {
      "text/plain": [
       "{'properties': {'gid': 'int',\n",
       "  'id_entity': 'int',\n",
       "  'station_identifier': 'string',\n",
       "  'marker': 'string',\n",
       "  'lat': 'double',\n",
       "  'lon': 'double',\n",
       "  'altitude': 'decimal',\n",
       "  'domain': 'string',\n",
       "  'subtype': 'string',\n",
       "  'operational_class': 'string',\n",
       "  'owner': 'string',\n",
       "  'date_start': 'dateTime',\n",
       "  'date_end': 'dateTime',\n",
       "  'service_bulletin': 'string'},\n",
       " 'required': [],\n",
       " 'geometry': 'GeometryCollection',\n",
       " 'geometry_column': 'geom_wgs84'}"
      ]
     },
     "execution_count": 7,
     "metadata": {},
     "output_type": "execute_result"
    }
   ],
   "source": [
    "# get the schema (table columns names and type) for a particular layer\n",
    "# this layer holds locations of monitoring stations\n",
    "wfs.get_schema(\"tos:v_stations_wgs84\")"
   ]
  },
  {
   "cell_type": "code",
   "execution_count": 8,
   "id": "f0d7efa0",
   "metadata": {},
   "outputs": [
    {
     "name": "stdout",
     "output_type": "stream",
     "text": [
      "{\n",
      "    \"type\": \"FeatureCollection\",\n",
      "    \"features\": [\n",
      "        {\n",
      "            \"type\": \"Feature\",\n",
      "            \"id\": \"v_stations_wgs84.fid--57310aae_17d042d7d14_23c2\",\n",
      "            \"geometry\": {\n",
      "                \"type\": \"Point\",\n",
      "                \"coordinates\": [\n",
      "                    -19.56205,\n",
      "                    64.86668\n",
      "                ]\n",
      "            },\n",
      "            \"geometry_name\": \"geom_wgs84\",\n",
      "            \"properties\": {\n",
      "                \"gid\": 677,\n",
      "                \"id_entity\": 677,\n",
      "                \"name\": \"Hveravellir\",\n",
      "                \"station_identifier\": \"hvrv\",\n",
      "                \"marker\": \"hvrv\",\n",
      "                \"lat\": 64.86668,\n",
      "                \"lon\": -19.56205,\n",
      "                \"altitude\": 641,\n",
      "                \"domain\": \"meteorological\",\n",
      "                \"subtype\": \"Skeytastöð\",\n",
      "                \"operational_class\": null,\n",
      "                \"owner\": \"Veðurstofa Íslands\",\n",
      "                \"date_start\": \"1964-01-01T01:00:00Z\",\n",
      "                \"date_end\": \"2004-01-01T00:00:00Z\",\n",
      "                \"service_bulletin\": null\n",
      "            }\n",
      "        },\n",
      "        {\n",
      "            \"type\": \"Feature\",\n",
      "            \"id\": \"v_stations_wgs84.fid--57310aae_17d042d7d14_23c3\",\n",
      "            \"geometry\": {\n",
      "                \"type\": \"Point\",\n",
      "                \"coordinates\": [\n",
      "                    -19.56222,\n",
      "                    64.86675\n",
      "                ]\n",
      "            },\n",
      "            \"geometry_name\": \"geom_wgs84\",\n",
      "            \"properties\": {\n",
      "                \"gid\": 1131,\n",
      "                \"id_entity\": 1131,\n",
      "                \"name\": \"Hveravellir\",\n",
      "                \"station_identifier\": \"hvell\",\n",
      "                \"marker\": \"hvell\",\n",
      "                \"lat\": 64.86675,\n",
      "                \"lon\": -19.56222,\n",
      "                \"altitude\": 641,\n",
      "                \"domain\": \"meteorological\",\n",
      "                \"subtype\": \"Sjálfvirk veðurstöð\",\n",
      "                \"operational_class\": \"A\",\n",
      "                \"owner\": \"Veðurstofa Íslands\",\n",
      "                \"date_start\": \"1996-01-01T00:00:00Z\",\n",
      "                \"date_end\": null,\n",
      "                \"service_bulletin\": null\n",
      "            }\n",
      "        },\n",
      "        {\n",
      "            \"type\": \"Feature\",\n",
      "            \"id\": \"v_stations_wgs84.fid--57310aae_17d042d7d14_23c4\",\n",
      "            \"geometry\": {\n",
      "                \"type\": \"Point\",\n",
      "                \"coordinates\": [\n",
      "                    -19.561244,\n",
      "                    64.873042\n",
      "                ]\n",
      "            },\n",
      "            \"geometry_name\": \"geom_wgs84\",\n",
      "            \"properties\": {\n",
      "                \"gid\": 4334,\n",
      "                \"id_entity\": 4334,\n",
      "                \"name\": \"Hveravellir\",\n",
      "                \"station_identifier\": \"hvel\",\n",
      "                \"marker\": \"hvel\",\n",
      "                \"lat\": 64.873042,\n",
      "                \"lon\": -19.561244,\n",
      "                \"altitude\": 710.15377,\n",
      "                \"domain\": \"geophysical\",\n",
      "                \"subtype\": \"GPS stöð\",\n",
      "                \"operational_class\": null,\n",
      "                \"owner\": \"Veðurstofa Íslands\",\n",
      "                \"date_start\": \"2006-08-10T00:00:00Z\",\n",
      "                \"date_end\": null,\n",
      "                \"service_bulletin\": null\n",
      "            }\n",
      "        },\n",
      "        {\n",
      "            \"type\": \"Feature\",\n",
      "            \"id\": \"v_stations_wgs84.fid--57310aae_17d042d7d14_23c5\",\n",
      "            \"geometry\": {\n",
      "                \"type\": \"Point\",\n",
      "                \"coordinates\": [\n",
      "                    -19.56661,\n",
      "                    64.86979\n",
      "                ]\n",
      "            },\n",
      "            \"geometry_name\": \"geom_wgs84\",\n",
      "            \"properties\": {\n",
      "                \"gid\": 5456,\n",
      "                \"id_entity\": 5456,\n",
      "                \"name\": \"Hveravellir\",\n",
      "                \"station_identifier\": \"hve\",\n",
      "                \"marker\": \"hve\",\n",
      "                \"lat\": 64.86979,\n",
      "                \"lon\": -19.56661,\n",
      "                \"altitude\": 640,\n",
      "                \"domain\": \"geophysical\",\n",
      "                \"subtype\": \"SIL stöð\",\n",
      "                \"operational_class\": \"C\",\n",
      "                \"owner\": null,\n",
      "                \"date_start\": \"1996-08-29T00:00:00Z\",\n",
      "                \"date_end\": \"2016-02-11T00:00:00Z\",\n",
      "                \"service_bulletin\": null\n",
      "            }\n",
      "        }\n",
      "    ],\n",
      "    \"totalFeatures\": 4,\n",
      "    \"numberMatched\": 4,\n",
      "    \"numberReturned\": 4,\n",
      "    \"timeStamp\": \"2021-11-12T11:14:30.705Z\",\n",
      "    \"crs\": {\n",
      "        \"type\": \"name\",\n",
      "        \"properties\": {\n",
      "            \"name\": \"urn:ogc:def:crs:EPSG::4326\"\n",
      "        }\n",
      "    }\n",
      "}\n"
     ]
    }
   ],
   "source": [
    "# let's create a filtered request where we ask for all features with name Hveravelli\n",
    "wfs_filter = PropertyIsLike(propertyname=\"name\", literal=\"Hveravellir\", wildCard=\"*\")\n",
    "filterxml = etree.tostring(wfs_filter.toXML()).decode(\"utf-8\")\n",
    "response = wfs.getfeature(typename='tos:v_stations_wgs84', filter=filterxml, outputFormat='JSON')\n",
    "# parse JSON response and print out the 4 features that matched our request\n",
    "parsed_json = json.loads(response.read())\n",
    "print(str(json.dumps(parsed_json, indent=4, sort_keys=False, ensure_ascii=False)))"
   ]
  }
 ],
 "metadata": {
  "kernelspec": {
   "display_name": "Python 3 (ipykernel)",
   "language": "python",
   "name": "python3"
  },
  "language_info": {
   "codemirror_mode": {
    "name": "ipython",
    "version": 3
   },
   "file_extension": ".py",
   "mimetype": "text/x-python",
   "name": "python",
   "nbconvert_exporter": "python",
   "pygments_lexer": "ipython3",
   "version": "3.9.7"
  }
 },
 "nbformat": 4,
 "nbformat_minor": 5
}
